{
 "cells": [
  {
   "cell_type": "code",
   "execution_count": 1,
   "metadata": {},
   "outputs": [
    {
     "name": "stderr",
     "output_type": "stream",
     "text": [
      "Using TensorFlow backend.\n"
     ]
    }
   ],
   "source": [
    "#change Kernel to \"...tensorflow_27\n",
    "#we are importing packages\n",
    "\n",
    "import scipy.io\n",
    "import scipy.misc\n",
    "import tensorflow as tf\n",
    "import numpy as np\n",
    "import time\n",
    "import os\n",
    "from IPython.display import Image\n",
    "\n",
    "from __future__ import print_function\n",
    "from keras.preprocessing.image import load_img, img_to_array\n",
    "from scipy.misc import imsave #to be able to save as an image\n",
    "from scipy.optimize import fmin_l_bfgs_b #to optimize our cost function\n",
    "\n",
    "from keras.applications import vgg19 #to load vgg19 network\n",
    "from keras import backend as K"
   ]
  },
  {
   "cell_type": "code",
   "execution_count": 2,
   "metadata": {},
   "outputs": [
    {
     "name": "stdout",
     "output_type": "stream",
     "text": [
      "1.4.0\n",
      "2.1.2\n"
     ]
    }
   ],
   "source": [
    "import keras\n",
    "print(tf.__version__)\n",
    "print(keras.__version__)\n",
    "\n",
    "from keras.utils.vis_utils import plot_model #to be able to visualize the network\n",
    "%matplotlib inline\n",
    "import matplotlib.image as mpimg\n",
    "import matplotlib.pyplot as plt"
   ]
  },
  {
   "cell_type": "code",
   "execution_count": 7,
   "metadata": {},
   "outputs": [],
   "source": [
    "# let's load images\n",
    "\n",
    "content_image_path = './SourceImg/'\n",
    "style_reference_image_path = './StyleImg/'\n",
    "\n",
    "\n",
    "contentList = os.listdir(content_image_path)\n",
    "if \".ipynb_checkpoints\" in contentList:\n",
    "    contentList.remove(\".ipynb_checkpoints\")\n",
    "contentList.sort()\n",
    "\n",
    "\n",
    "target_image_ref_name = contentList[0]\n",
    "\n",
    "styleList = os.listdir(style_reference_image_path)\n",
    "if \".ipynb_checkpoints\" in styleList:\n",
    "    styleList.remove(\".ipynb_checkpoints\")\n",
    "styleList.sort()\n",
    "\n",
    "styleStack = \"\"\n",
    "\n",
    "\n",
    "# get dimensions (width, height) of the generated picture\n",
    "width, height = load_img(content_image_path + target_image_ref_name).size\n",
    "\n",
    "img_nrows = 400 #recale the image to 400 pixel rows \n",
    "img_ncols = int(width * img_nrows / height)\n"
   ]
  },
  {
   "cell_type": "code",
   "execution_count": 8,
   "metadata": {},
   "outputs": [
    {
     "name": "stdout",
     "output_type": "stream",
     "text": [
      "---------------------------------------------------\n",
      "\n",
      "Numbers of iteration do not match numbers of style\n",
      "\n",
      "---------------------------------------------------\n",
      "\n"
     ]
    }
   ],
   "source": [
    "iterations = 20 #we will run 20 iterations during the optiomization. each iteration you get better value. this one is for about 15 min. running. \n",
    "\n",
    "#style_iterations = [5,10,20]\n",
    "#if len(style_iterations) != len(styleList):\n",
    "#    print(\"---------------------------------------------------\\n\")\n",
    "#    print(\"Numbers of iteration do not match numbers of style\\n\")\n",
    "#    print(\"---------------------------------------------------\\n\")\n",
    "\n",
    "# these are the weights of the different loss components\n",
    "total_variation_weight = 1.0 \n",
    "style_weight = 1.0 #the best number authors got from their trials \n",
    "content_weight = 0.025 #the best number authors got from their trials "
   ]
  },
  {
   "cell_type": "code",
   "execution_count": 5,
   "metadata": {},
   "outputs": [],
   "source": [
    "# pre-process the image: rescaling, running it through VGG19\n",
    "\n",
    "def preprocess_image(image_path):\n",
    "\n",
    "    img = load_img(image_path, target_size=(img_nrows, img_ncols))\n",
    "    img = img_to_array(img)\n",
    "    img = np.expand_dims(img, axis=0)\n",
    "    img = vgg19.preprocess_input(img)\n",
    "    return img\n",
    "\n",
    "\n",
    "# utility function to convert a tensor into a valid image\n",
    "\n",
    "def deprocess_image(x):\n",
    "\n",
    "    if K.image_data_format() == 'channels_first':\n",
    "        x = x.reshape((3, img_nrows, img_ncols))\n",
    "        x = x.transpose((1, 2, 0))\n",
    "\n",
    "    else:\n",
    "\n",
    "        x = x.reshape((img_nrows, img_ncols, 3))\n",
    "\n",
    "    # Remove zero-center by mean pixel\n",
    "\n",
    "    x[:, :, 0] += 103.939\n",
    "    x[:, :, 1] += 116.779\n",
    "    x[:, :, 2] += 123.68\n",
    "\n",
    "    # 'BGR'->'RGB'\n",
    "\n",
    "    x = x[:, :, ::-1]\n",
    "    x = np.clip(x, 0, 255).astype('uint8')\n",
    "    return x\n",
    "\n",
    "#calculating the mean pixel values of the VGG network. We will use these values for normalization.\n",
    "#mean = data['meta'][0][0][2][0][0][2]\n",
    "#mean_pixel = np.mean(mean, axis=(0, 1))\n",
    "#print(mean_pixel)"
   ]
  },
  {
   "cell_type": "code",
   "execution_count": 6,
   "metadata": {},
   "outputs": [],
   "source": [
    "# compute the neural style loss\n",
    "# first we need to define 4 utility functions\n",
    "# the gram matrix of an image tensor (feature-wise outer product)\n",
    "\n",
    "def gram_matrix(x):\n",
    "\n",
    "    assert K.ndim(x) == 3\n",
    "    if K.image_data_format() == 'channels_first':\n",
    "        features = K.batch_flatten(x)\n",
    "    else:\n",
    "        features = K.batch_flatten(K.permute_dimensions(x, (2, 0, 1)))\n",
    "\n",
    "    gram = K.dot(features, K.transpose(features))\n",
    "    return gram"
   ]
  },
  {
   "cell_type": "code",
   "execution_count": 7,
   "metadata": {},
   "outputs": [],
   "source": [
    "# the \"style loss\" is designed to maintain\n",
    "# the style of the reference image in the generated image.\n",
    "# It is based on the gram matrices (which capture style) of\n",
    "# feature maps from the style reference image\n",
    "# and from the generated image\n",
    "\n",
    "def style_loss(style, combination):\n",
    "\n",
    "    assert K.ndim(style) == 3\n",
    "    assert K.ndim(combination) == 3\n",
    "\n",
    "    S = gram_matrix(style)\n",
    "    C = gram_matrix(combination)\n",
    "    channels = 3\n",
    "    size = img_nrows * img_ncols\n",
    "    return K.sum(K.square(S - C)) / (4. * (channels ** 2) * (size ** 2))\n"
   ]
  },
  {
   "cell_type": "code",
   "execution_count": 8,
   "metadata": {},
   "outputs": [],
   "source": [
    "# an auxiliary loss function\n",
    "# designed to maintain the \"content\" of the\n",
    "# base image in the generated image\n",
    "\n",
    "def content_loss(base, combination):\n",
    "    return K.sum(K.square(combination - base))\n"
   ]
  },
  {
   "cell_type": "code",
   "execution_count": 9,
   "metadata": {},
   "outputs": [],
   "source": [
    "# the 3rd loss function, total variation loss,\n",
    "# designed to keep the generated image locally coherent (no big changes)\n",
    "\n",
    "def total_variation_loss(x):\n",
    "    assert K.ndim(x) == 4\n",
    "    if K.image_data_format() == 'channels_first':\n",
    "\n",
    "        a = K.square(x[:, :, :img_nrows - 1, :img_ncols - 1] - x[:, :, 1:, :img_ncols - 1])\n",
    "        b = K.square(x[:, :, :img_nrows - 1, :img_ncols - 1] - x[:, :, :img_nrows - 1, 1:])\n",
    "    else:\n",
    "        a = K.square(x[:, :img_nrows - 1, :img_ncols - 1, :] - x[:, 1:, :img_ncols - 1, :])\n",
    "        b = K.square(x[:, :img_nrows - 1, :img_ncols - 1, :] - x[:, :img_nrows - 1, 1:, :])\n",
    "    return K.sum(K.pow(a + b, 1.25))"
   ]
  },
  {
   "cell_type": "code",
   "execution_count": 10,
   "metadata": {},
   "outputs": [],
   "source": [
    "def eval_loss_and_grads(x):\n",
    "\n",
    "    if K.image_data_format() == 'channels_first':\n",
    "        x = x.reshape((1, 3, img_nrows, img_ncols))\n",
    "    else:\n",
    "        x = x.reshape((1, img_nrows, img_ncols, 3))\n",
    "\n",
    "    outs = f_outputs([x])\n",
    "    loss_value = outs[0]\n",
    "    if len(outs[1:]) == 1:\n",
    "        grad_values = outs[1].flatten().astype('float64')\n",
    "    else:\n",
    "        grad_values = np.array(outs[1:]).flatten().astype('float64')\n",
    "    return loss_value, grad_values\n",
    "\n"
   ]
  },
  {
   "cell_type": "code",
   "execution_count": 11,
   "metadata": {},
   "outputs": [],
   "source": [
    "# this Evaluator class makes it possible\n",
    "# to compute loss and gradients in one pass\n",
    "# while retrieving them via two separate functions,\n",
    "# \"loss\" and \"grads\". This is done because scipy.optimize\n",
    "# requires separate functions for loss and gradients,\n",
    "# but computing them separately would be inefficient.\n",
    "\n",
    "class Evaluator(object):\n",
    "\n",
    "    def __init__(self):\n",
    "        self.loss_value = None\n",
    "        self.grads_values = None\n",
    "\n",
    "    def loss(self, x):\n",
    "        assert self.loss_value is None\n",
    "        loss_value, grad_values = eval_loss_and_grads(x)\n",
    "        self.loss_value = loss_value\n",
    "        self.grad_values = grad_values\n",
    "        return self.loss_value\n",
    "\n",
    "    def grads(self, x):\n",
    "        assert self.loss_value is not None\n",
    "        grad_values = np.copy(self.grad_values)\n",
    "        self.loss_value = None\n",
    "        self.grad_values = None\n",
    "        return grad_values"
   ]
  },
  {
   "cell_type": "code",
   "execution_count": 12,
   "metadata": {},
   "outputs": [],
   "source": [
    "evaluator = Evaluator()"
   ]
  },
  {
   "cell_type": "code",
   "execution_count": 13,
   "metadata": {},
   "outputs": [
    {
     "name": "stdout",
     "output_type": "stream",
     "text": [
      "5\n",
      "10\n",
      "20\n"
     ]
    },
    {
     "name": "stderr",
     "output_type": "stream",
     "text": [
      "/home/ubuntu/anaconda3/envs/tensorflow_p27/lib/python2.7/site-packages/ipykernel/__main__.py:5: DeprecationWarning: `imread` is deprecated!\n",
      "`imread` is deprecated in SciPy 1.0.0, and will be removed in 1.2.0.\n",
      "Use ``imageio.imread`` instead.\n"
     ]
    },
    {
     "data": {
      "text/plain": [
       "'       \\n        fileAddr = content_image_path + content\\n        contentName = content[:content.find(\".\")]\\n\\n\\n        image_content = scipy.misc.imread(fileAddr)\\n        \\n\\n        #image_content= scipy.misc.imresize(image_content,(224,224))\\n        #plt.figure(figsize=(11,11))\\n        #plt.imshow(image_content)\\n\\n        # get tensor representations of our images\\n\\n        base_image = K.variable(preprocess_image(fileAddr))\\n\\n        # this will contain our generated image\\n        if K.image_data_format() == \\'channels_first\\':\\n            combination_image = K.placeholder((1, 3, img_nrows, img_ncols))\\n        else:\\n            combination_image = K.placeholder((1, img_nrows, img_ncols, 3))\\n\\n\\n        # combine the 3 images (style, content, result image that starts from the white noise) into a single Keras tensor\\n\\n        input_tensor = K.concatenate([base_image,\\n                                      style_reference_image,\\n                                      combination_image], axis=0)\\n\\n        # build the VGG19 network with our 3 images as input\\n        # the model will be loaded with pre-trained ImageNet weights\\n\\n        model = vgg19.VGG19(input_tensor=input_tensor,weights=\\'imagenet\\', include_top=False)\\n        print(\\'Model loaded.\\')\\n\\n        #plot_model(model, show_shapes=True, to_file=\\'./images/model.png\\')\\n        #Image(\"./images/model.png\")\\n        #for l, layer in enumerate(model.layers):\\n        #print(layer.name)\\n        # get the symbolic outputs of each \"key\" layer (we gave them unique names).\\n        outputs_dict = dict([(layer.name, layer.output) for layer in model.layers])\\n        # combine these loss functions into a single scalar\\n\\n        loss = K.variable(0.)\\n        layer_features = outputs_dict[\\'block5_conv2\\'] #content features\\n        base_image_features = layer_features[0, :, :, :]\\n        combination_features = layer_features[2, :, :, :]\\n        loss += content_weight * content_loss(base_image_features,\\n                                              combination_features)\\n\\n        # style_features\\n        feature_layers = [\\'block1_conv1\\', \\'block2_conv1\\',\\n                          \\'block3_conv1\\', \\'block4_conv1\\',\\n                          \\'block5_conv1\\']\\n\\n        for layer_name in feature_layers:\\n            layer_features = outputs_dict[layer_name]\\n            style_reference_features = layer_features[1, :, :, :]\\n            combination_features = layer_features[2, :, :, :]\\n            sl = style_loss(style_reference_features, combination_features)\\n            loss += (style_weight / len(feature_layers)) * sl\\n\\n        loss += total_variation_weight * total_variation_loss(combination_image)\\n\\n        # get the gradients of the generated image wrt the loss\\n\\n        grads = K.gradients(loss, combination_image)\\n        outputs = [loss]\\n\\n        if isinstance(grads, (list, tuple)):\\n            outputs += grads\\n        else:\\n            outputs.append(grads)\\n\\n        f_outputs = K.function([combination_image], outputs)\\n\\n        # run scipy-based optimization (L-BFGS) over the pixels of the generated image\\n        # so as to minimize the neural style loss\\n        x = preprocess_image(fileAddr)\\n\\n        \\n        result_prefix =\\'./Intermediate_Result/\\' + styleStack + contentName\\n        # minimise the loss function\\n\\n        for i in range(iterations):\\n\\n            print(\\'Start of iteration\\', i)\\n            start_time = time.time()\\n\\n            x, min_val, info = fmin_l_bfgs_b(evaluator.loss, x.flatten(),\\n                                             fprime=evaluator.grads, maxfun=20)\\n\\n            print(\\'Current loss value:\\', min_val)\\n            # save current generated image\\n\\n            img = deprocess_image(x.copy())\\n            fname = result_prefix + \\'_at_iteration_%d.png\\' % i\\n            imsave(fname, img)\\n            imsave(fileAddr, img)\\n            end_time = time.time()\\n\\n            print(\\'Image saved as\\', fname)\\n            print(\\'Iteration %d completed in %ds\\' % (i, end_time - start_time))\\n\\n            #image_content= scipy.misc.imresize(image_content,(224,224))\\n            #plt.figure(figsize=(11,11))\\n            #plt.imshow(img)\\n'"
      ]
     },
     "execution_count": 13,
     "metadata": {},
     "output_type": "execute_result"
    }
   ],
   "source": [
    "for style in styleList:\n",
    "    \n",
    "    #iterations = style_iterations.pop(0)\n",
    "    styleAddr = style_reference_image_path + style\n",
    "    image_style = scipy.misc.imread(styleAddr)\n",
    "    \n",
    "    #image_content= scipy.misc.imresize(image_content,(224,224))\n",
    "    #plt.figure(figsize=(11,11))\n",
    "    #plt.imshow(image_style)\n",
    "   \n",
    "    style_reference_image = K.variable(preprocess_image(styleAddr))\n",
    "    styleName = style[:style.find(\".\")]\n",
    "    styleStack += styleName + '_'\n",
    "\n",
    "    for content in contentList:\n",
    "      \n",
    "        fileAddr = content_image_path + content\n",
    "        contentName = content[:content.find(\".\")]\n",
    "\n",
    "\n",
    "        image_content = scipy.misc.imread(fileAddr)\n",
    "        \n",
    "\n",
    "        #image_content= scipy.misc.imresize(image_content,(224,224))\n",
    "        #plt.figure(figsize=(11,11))\n",
    "        #plt.imshow(image_content)\n",
    "\n",
    "        # get tensor representations of our images\n",
    "\n",
    "        base_image = K.variable(preprocess_image(fileAddr))\n",
    "\n",
    "        # this will contain our generated image\n",
    "        if K.image_data_format() == 'channels_first':\n",
    "            combination_image = K.placeholder((1, 3, img_nrows, img_ncols))\n",
    "        else:\n",
    "            combination_image = K.placeholder((1, img_nrows, img_ncols, 3))\n",
    "\n",
    "\n",
    "        # combine the 3 images (style, content, result image that starts from the white noise) into a single Keras tensor\n",
    "\n",
    "        input_tensor = K.concatenate([base_image,\n",
    "                                      style_reference_image,\n",
    "                                      combination_image], axis=0)\n",
    "\n",
    "        # build the VGG19 network with our 3 images as input\n",
    "        # the model will be loaded with pre-trained ImageNet weights\n",
    "\n",
    "        model = vgg19.VGG19(input_tensor=input_tensor,weights='imagenet', include_top=False)\n",
    "        print('Model loaded.')\n",
    "\n",
    "        #plot_model(model, show_shapes=True, to_file='./images/model.png')\n",
    "        #Image(\"./images/model.png\")\n",
    "        #for l, layer in enumerate(model.layers):\n",
    "        #print(layer.name)\n",
    "        # get the symbolic outputs of each \"key\" layer (we gave them unique names).\n",
    "        outputs_dict = dict([(layer.name, layer.output) for layer in model.layers])\n",
    "        # combine these loss functions into a single scalar\n",
    "\n",
    "        loss = K.variable(0.)\n",
    "        layer_features = outputs_dict['block5_conv2'] #content features\n",
    "        base_image_features = layer_features[0, :, :, :]\n",
    "        combination_features = layer_features[2, :, :, :]\n",
    "        loss += content_weight * content_loss(base_image_features,\n",
    "                                              combination_features)\n",
    "\n",
    "        # style_features\n",
    "        feature_layers = ['block1_conv1', 'block2_conv1',\n",
    "                          'block3_conv1', 'block4_conv1',\n",
    "                          'block5_conv1']\n",
    "\n",
    "        for layer_name in feature_layers:\n",
    "            layer_features = outputs_dict[layer_name]\n",
    "            style_reference_features = layer_features[1, :, :, :]\n",
    "            combination_features = layer_features[2, :, :, :]\n",
    "            sl = style_loss(style_reference_features, combination_features)\n",
    "            loss += (style_weight / len(feature_layers)) * sl\n",
    "\n",
    "        loss += total_variation_weight * total_variation_loss(combination_image)\n",
    "\n",
    "        # get the gradients of the generated image wrt the loss\n",
    "\n",
    "        grads = K.gradients(loss, combination_image)\n",
    "        outputs = [loss]\n",
    "\n",
    "        if isinstance(grads, (list, tuple)):\n",
    "            outputs += grads\n",
    "        else:\n",
    "            outputs.append(grads)\n",
    "\n",
    "        f_outputs = K.function([combination_image], outputs)\n",
    "\n",
    "        # run scipy-based optimization (L-BFGS) over the pixels of the generated image\n",
    "        # so as to minimize the neural style loss\n",
    "        x = preprocess_image(fileAddr)\n",
    "\n",
    "        \n",
    "        result_prefix ='./Intermediate_Result/' + styleStack + contentName\n",
    "        # minimise the loss function\n",
    "\n",
    "        for i in range(iterations):\n",
    "\n",
    "            print('Start of iteration', i)\n",
    "            start_time = time.time()\n",
    "\n",
    "            x, min_val, info = fmin_l_bfgs_b(evaluator.loss, x.flatten(),\n",
    "                                             fprime=evaluator.grads, maxfun=20)\n",
    "\n",
    "            print('Current loss value:', min_val)\n",
    "            # save current generated image\n",
    "\n",
    "            img = deprocess_image(x.copy())\n",
    "            fname = result_prefix + '_at_iteration_%d.png' % i\n",
    "            imsave(fname, img)\n",
    "            imsave(fileAddr, img)\n",
    "            end_time = time.time()\n",
    "\n",
    "            print('Image saved as', fname)\n",
    "            print('Iteration %d completed in %ds' % (i, end_time - start_time))\n",
    "\n",
    "            #image_content= scipy.misc.imresize(image_content,(224,224))\n",
    "            #plt.figure(figsize=(11,11))\n",
    "            #plt.imshow(img)\n"
   ]
  },
  {
   "cell_type": "code",
   "execution_count": null,
   "metadata": {},
   "outputs": [],
   "source": []
  },
  {
   "cell_type": "code",
   "execution_count": null,
   "metadata": {},
   "outputs": [],
   "source": []
  }
 ],
 "metadata": {
  "kernelspec": {
   "display_name": "Environment (conda_tensorflow_p27)",
   "language": "python",
   "name": "conda_tensorflow_p27"
  },
  "language_info": {
   "codemirror_mode": {
    "name": "ipython",
    "version": 2
   },
   "file_extension": ".py",
   "mimetype": "text/x-python",
   "name": "python",
   "nbconvert_exporter": "python",
   "pygments_lexer": "ipython2",
   "version": "2.7.14"
  }
 },
 "nbformat": 4,
 "nbformat_minor": 1
}
